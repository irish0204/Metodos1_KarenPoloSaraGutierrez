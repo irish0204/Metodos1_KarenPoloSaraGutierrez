{
 "cells": [
  {
   "cell_type": "markdown",
   "id": "a8a32515",
   "metadata": {},
   "source": [
    "Para demostrar que el polinomio interpolador de Lagrange es único, hay que probar que si hay dos polinomios interpoladores distintos que pasan por el mismo conjunto soporte, entonces esos polinomios deben ser iguales.\n",
    "\n",
    "Sean dos polinomios interpoladores de Lagrange, $p_n(x)$ y $q_n(x)$, que pasan por el conjunto soporte $\\Omega = \\{(x_0,y_0), (x_1,y_1), \\dots, (x_n,y_n)\\}$. Entonces:\n",
    "\n",
    "$$p_n(x_i) = y_i , i=0,1,\\dots,n$$\n",
    "$$q_n(x_i) = y_i , i=0,1,\\dots,n$$\n",
    "\n",
    "Ahora, sea $r(x) = p_n(x) - q_n(x)$. Entonces se tiene que:\n",
    "\n",
    "$$r(x_i) = p_n(x_i) - q_n(x_i) = y_i - y_i = 0 , i=0,1,\\dots,n$$\n",
    "\n",
    "Por lo tanto, el polinomio $r(x)$ es el polinomio identicamente cero. Entonces, $p(x) - q(x) = r(x) = 0$, lo que implica que $p(x) = q(x)$."
   ]
  }
 ],
 "metadata": {
  "kernelspec": {
   "display_name": "Python 3 (ipykernel)",
   "language": "python",
   "name": "python3"
  },
  "language_info": {
   "codemirror_mode": {
    "name": "ipython",
    "version": 3
   },
   "file_extension": ".py",
   "mimetype": "text/x-python",
   "name": "python",
   "nbconvert_exporter": "python",
   "pygments_lexer": "ipython3",
   "version": "3.9.13"
  }
 },
 "nbformat": 4,
 "nbformat_minor": 5
}
