{
 "cells": [
  {
   "cell_type": "code",
   "execution_count": 4,
   "id": "5bb4f43e",
   "metadata": {},
   "outputs": [],
   "source": [
    "import sympy as sym\n",
    "import numpy as np"
   ]
  },
  {
   "cell_type": "code",
   "execution_count": 5,
   "id": "3733077a",
   "metadata": {},
   "outputs": [],
   "source": [
    "def GetNewtonRaphson(f,df,xn,itmax = 100, precision=1e-5):\n",
    "    \n",
    "    error = 1\n",
    "    it = 0\n",
    "    \n",
    "    while error > precision and it <= itmax:\n",
    "        \n",
    "        try:\n",
    "            \n",
    "            xn1 = xn - f(xn)/df(f,xn)\n",
    "            \n",
    "            error = np.abs(f(xn)/df(f,xn))\n",
    "            \n",
    "            #print(error)\n",
    "            \n",
    "        except ZeroDivisionError:\n",
    "            \n",
    "            print('Division por cero')\n",
    "            \n",
    "        it += 1\n",
    "        xn = xn1\n",
    "    \n",
    "    if it == itmax:\n",
    "        False\n",
    "    else:\n",
    "        return xn\n",
    "    \n",
    "def GetAllRoots(f,dx,x,tolerancia=8):\n",
    "    \n",
    "    Roots = np.array([])\n",
    "    \n",
    "    for i in x:\n",
    "        \n",
    "        root = GetNewtonRaphson(f,dx,i)\n",
    "        \n",
    "        if root != False:\n",
    "            \n",
    "            croot = np.round(root, tolerancia)\n",
    "            \n",
    "            if croot not in Roots:\n",
    "                Roots = np.append(Roots,croot)\n",
    "                \n",
    "    Roots.sort()\n",
    "        \n",
    "    return Roots"
   ]
  },
  {
   "cell_type": "code",
   "execution_count": 6,
   "id": "34495d08",
   "metadata": {},
   "outputs": [],
   "source": [
    "n = sym.Symbol(\"n\")\n",
    "eps = sym.Symbol(\"epsilon\")\n",
    "i = sym.Symbol(\"i\")\n",
    "x = sym.Symbol(\"x\")\n",
    "f__ = sym.exp(-eps**2)\n",
    "\n",
    "H = (-1)**n * sym.exp(eps**2) * f__.diff(eps,2)\n",
    "\n",
    "w_i = (2**(n-1) * sym.factorial(n) * sym.sqrt(sym.pi)) / (n**2 * H.subs(n,n-1).subs(eps,x))\n",
    "\n"
   ]
  }
 ],
 "metadata": {
  "kernelspec": {
   "display_name": "Python 3 (ipykernel)",
   "language": "python",
   "name": "python3"
  },
  "language_info": {
   "codemirror_mode": {
    "name": "ipython",
    "version": 3
   },
   "file_extension": ".py",
   "mimetype": "text/x-python",
   "name": "python",
   "nbconvert_exporter": "python",
   "pygments_lexer": "ipython3",
   "version": "3.9.13"
  }
 },
 "nbformat": 4,
 "nbformat_minor": 5
}
