{
 "cells": [
  {
   "cell_type": "code",
   "execution_count": 7,
   "id": "5bb4f43e",
   "metadata": {},
   "outputs": [],
   "source": [
    "import sympy as sym\n",
    "import numpy as np"
   ]
  },
  {
   "cell_type": "code",
   "execution_count": 46,
   "id": "34495d08",
   "metadata": {},
   "outputs": [],
   "source": [
    "n = sym.Symbol(\"n\")\n",
    "eps = sym.Symbol(\"epsilon\")\n",
    "i = sym.Symbol(\"i\")\n",
    "x = sym.Symbol(\"x\")\n",
    "\n",
    "H = (-1)**n * sym.exp(eps**2) * sym.diff(sym.exp(-eps**2),eps,2)\n",
    "\n",
    "w_i = (2**(n-1) * sym.factorial(n) * sym.sqrt(sym.pi)) / (n**2 * H.subs(n,n-1).subs(eps,x))\n",
    "\n"
   ]
  },
  {
   "cell_type": "code",
   "execution_count": 47,
   "id": "2ad0c693",
   "metadata": {},
   "outputs": [],
   "source": [
    "H_n = []\n",
    "\n",
    "H_1 = H.subs(n,1)\n",
    "\n",
    "for k in range (20):\n",
    "    H_n.append(H.subs(n,k+1))"
   ]
  },
  {
   "cell_type": "code",
   "execution_count": 48,
   "id": "5fdca4ca",
   "metadata": {},
   "outputs": [
    {
     "data": {
      "text/latex": [
       "$\\displaystyle 2 \\left(-1\\right)^{n} \\left(2 \\epsilon^{2} - 1\\right)$"
      ],
      "text/plain": [
       "2*(-1)**n*(2*epsilon**2 - 1)"
      ]
     },
     "execution_count": 48,
     "metadata": {},
     "output_type": "execute_result"
    }
   ],
   "source": [
    "H"
   ]
  }
 ],
 "metadata": {
  "kernelspec": {
   "display_name": "Python 3 (ipykernel)",
   "language": "python",
   "name": "python3"
  },
  "language_info": {
   "codemirror_mode": {
    "name": "ipython",
    "version": 3
   },
   "file_extension": ".py",
   "mimetype": "text/x-python",
   "name": "python",
   "nbconvert_exporter": "python",
   "pygments_lexer": "ipython3",
   "version": "3.9.13"
  }
 },
 "nbformat": 4,
 "nbformat_minor": 5
}
