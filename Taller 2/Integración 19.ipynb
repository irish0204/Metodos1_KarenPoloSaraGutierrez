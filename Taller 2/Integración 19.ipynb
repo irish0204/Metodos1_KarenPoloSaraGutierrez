{
 "cells": [
  {
   "cell_type": "code",
   "execution_count": 19,
   "id": "db97e437",
   "metadata": {},
   "outputs": [],
   "source": [
    "import numpy as np\n",
    "import sympy as sym\n",
    "from tqdm import tqdm"
   ]
  },
  {
   "cell_type": "code",
   "execution_count": 20,
   "id": "fad70194",
   "metadata": {},
   "outputs": [],
   "source": [
    "def funcion(x,T,DT):\n",
    "    T_D = 300\n",
    "    f = np.tanh( np.sqrt(x**2 + DT**2)*T_D/(2*T)) / np.sqrt(x**2 + DT**2)\n",
    "    \n",
    "    return f"
   ]
  },
  {
   "cell_type": "code",
   "execution_count": 21,
   "id": "da1824f8",
   "metadata": {},
   "outputs": [],
   "source": [
    "N0V = 0.3"
   ]
  },
  {
   "cell_type": "code",
   "execution_count": 49,
   "id": "90a6b150",
   "metadata": {},
   "outputs": [],
   "source": [
    "T = np.linspace(1,20,20000)"
   ]
  },
  {
   "cell_type": "code",
   "execution_count": 50,
   "id": "c7b33b75",
   "metadata": {},
   "outputs": [],
   "source": [
    "def hallarT(f,T):\n",
    "    integral = 0\n",
    "    DT = 1e-4\n",
    "    hallado = False\n",
    "    n = 0\n",
    "    while (not hallado) and (n < 200000): \n",
    "        Tc = T[n]\n",
    "        a=-1\n",
    "        b=1\n",
    "        integral = 0.5*(b-a)\n",
    "        suma = 0.0\n",
    "        X,W = np.polynomial.legendre.leggauss(50)\n",
    "        for i in range(len(W)):\n",
    "            t_i = 0.5*((b-a)*X[i] + a + b )\n",
    "            suma += (W[i]*f(t_i,Tc,DT))\n",
    "        integral *= suma\n",
    "        integral *=0.5\n",
    "        \n",
    "\n",
    "        if np.abs(integral-1/(N0V)) < DT:\n",
    "            hallado = True\n",
    "            return Tc\n",
    "        else:\n",
    "            n += 1\n",
    "            \n",
    "    if n == 200000:\n",
    "        print(\"No se encontró Tc\")"
   ]
  },
  {
   "cell_type": "code",
   "execution_count": 51,
   "id": "6da21f1d",
   "metadata": {},
   "outputs": [
    {
     "data": {
      "text/plain": [
       "12.133606680334017"
      ]
     },
     "execution_count": 51,
     "metadata": {},
     "output_type": "execute_result"
    }
   ],
   "source": [
    "hallarT(funcion,T)"
   ]
  }
 ],
 "metadata": {
  "kernelspec": {
   "display_name": "Python 3 (ipykernel)",
   "language": "python",
   "name": "python3"
  },
  "language_info": {
   "codemirror_mode": {
    "name": "ipython",
    "version": 3
   },
   "file_extension": ".py",
   "mimetype": "text/x-python",
   "name": "python",
   "nbconvert_exporter": "python",
   "pygments_lexer": "ipython3",
   "version": "3.9.13"
  }
 },
 "nbformat": 4,
 "nbformat_minor": 5
}
