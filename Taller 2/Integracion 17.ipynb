{
 "cells": [
  {
   "cell_type": "code",
   "execution_count": 32,
   "id": "5f9e842e",
   "metadata": {},
   "outputs": [],
   "source": [
    "import numpy as np\n",
    "import sympy as sym\n",
    "from matplotlib import pyplot as plt"
   ]
  },
  {
   "cell_type": "code",
   "execution_count": 33,
   "id": "fe5b41f2",
   "metadata": {},
   "outputs": [],
   "source": [
    "def GaussLaguerreIntegrate(f,n):\n",
    "    x = sym.Symbol(\"x\", Real=True)\n",
    "    roots,weights = np.polynomial.laguerre.laggauss(n)\n",
    "        \n",
    "    I = 0\n",
    "    \n",
    "    for k in range(n):\n",
    "        w_k = weights[k]\n",
    "        r_k = roots[k]\n",
    "        term = w_k * f(r_k)\n",
    "        I += term\n",
    "    \n",
    "    return I"
   ]
  },
  {
   "cell_type": "markdown",
   "id": "0a3cb713",
   "metadata": {},
   "source": [
    "$$f(x)=\\frac{x^3}{e^x - 1}$$\n",
    "$$f(x)=\\frac{1}{e^x} \\frac{x^3}{1 - e^{-x}}$$\n",
    "$$f(x)=e^{-x} \\frac{x^3}{1 - e^{-x}}$$"
   ]
  },
  {
   "cell_type": "code",
   "execution_count": 34,
   "id": "82a86938",
   "metadata": {},
   "outputs": [],
   "source": [
    "def f(x):\n",
    "    return x**3/(1-np.exp(-x))"
   ]
  },
  {
   "cell_type": "code",
   "execution_count": 35,
   "id": "3f4addf3",
   "metadata": {},
   "outputs": [],
   "source": [
    "I_t = np.pi**4 / 15"
   ]
  },
  {
   "cell_type": "code",
   "execution_count": 36,
   "id": "286371c4",
   "metadata": {},
   "outputs": [
    {
     "data": {
      "text/plain": [
       "6.481130171540027"
      ]
     },
     "execution_count": 36,
     "metadata": {},
     "output_type": "execute_result"
    }
   ],
   "source": [
    "I_3 = GaussLaguerreIntegrate(f,3)\n",
    "I_3"
   ]
  },
  {
   "cell_type": "code",
   "execution_count": 42,
   "id": "7fc19db4",
   "metadata": {},
   "outputs": [],
   "source": [
    "I_2 = GaussLaguerreIntegrate(f,2)\n",
    "I_4 = GaussLaguerreIntegrate(f,4)\n",
    "I_5 = GaussLaguerreIntegrate(f,5)\n",
    "I_6 = GaussLaguerreIntegrate(f,6)\n",
    "I_7 = GaussLaguerreIntegrate(f,7)\n",
    "I_8 = GaussLaguerreIntegrate(f,8)\n",
    "I_9 = GaussLaguerreIntegrate(f,9)\n",
    "I_10 = GaussLaguerreIntegrate(f,10)\n",
    "\n",
    "I_exp = np.array([I_2,I_3,I_4,I_5,I_6,I_7,I_8,I_9,I_10])\n",
    "error = I_exp/I_t"
   ]
  },
  {
   "cell_type": "code",
   "execution_count": 44,
   "id": "7cbbabdc",
   "metadata": {},
   "outputs": [
    {
     "data": {
      "text/plain": [
       "<matplotlib.collections.PathCollection at 0x204952fb700>"
      ]
     },
     "execution_count": 44,
     "metadata": {},
     "output_type": "execute_result"
    },
    {
     "data": {
      "image/png": "[encoded data removed]",
      "text/plain": [
       "<Figure size 640x480 with 1 Axes>"
      ]
     },
     "metadata": {},
     "output_type": "display_data"
    }
   ],
   "source": [
    "plt.scatter(range(2,11),error)"
   ]
  }
 ],
 "metadata": {
  "kernelspec": {
   "display_name": "Python 3 (ipykernel)",
   "language": "python",
   "name": "python3"
  },
  "language_info": {
   "codemirror_mode": {
    "name": "ipython",
    "version": 3
   },
   "file_extension": ".py",
   "mimetype": "text/x-python",
   "name": "python",
   "nbconvert_exporter": "python",
   "pygments_lexer": "ipython3",
   "version": "3.9.13"
  }
 },
 "nbformat": 4,
 "nbformat_minor": 5
}
