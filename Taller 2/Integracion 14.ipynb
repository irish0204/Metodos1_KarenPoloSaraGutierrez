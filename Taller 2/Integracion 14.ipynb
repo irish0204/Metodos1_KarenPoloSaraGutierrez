{
 "cells": [
  {
   "cell_type": "markdown",
   "id": "8001b039",
   "metadata": {},
   "source": [
    "$$ p(x) = 3 + 5x + x^2$$"
   ]
  },
  {
   "cell_type": "markdown",
   "id": "da8e4de0",
   "metadata": {},
   "source": [
    "La base de Legendre es:\n",
    "$$p_0(x)=1$$\n",
    "\n",
    "$$p_1(x)=x$$\n",
    "\n",
    "$$p_2(x)=\\frac{1}{2} (3x^2-1) = \\frac{3x^2-1}{2} $$"
   ]
  },
  {
   "cell_type": "markdown",
   "id": "a1822da2",
   "metadata": {},
   "source": [
    "De modo que:\n",
    "$$3 = 3\\cdot 1= 3p_0(x)$$\n",
    "$$5x = 5p_1(x)$$\n",
    "$$x^2 = \\big(\\frac{3x^2}{2} -\\frac{1}{2} \\big) \\frac{2}{3} = \\frac{2}{3} p_2(x) + \\frac{1}{3}$$"
   ]
  },
  {
   "cell_type": "markdown",
   "id": "03219f58",
   "metadata": {},
   "source": [
    "Y entonces:\n",
    "$$p(x) = 3p_0(x) + 5p_1(x) + \\frac{2}{3} p_2(x) + \\frac{1}{3}$$\n",
    "$$p(x) = + \\frac{10}{3}p_0(x) + 5p_1(x) + \\frac{2}{3} p_2(x)$$"
   ]
  }
 ],
 "metadata": {
  "kernelspec": {
   "display_name": "Python 3 (ipykernel)",
   "language": "python",
   "name": "python3"
  },
  "language_info": {
   "codemirror_mode": {
    "name": "ipython",
    "version": 3
   },
   "file_extension": ".py",
   "mimetype": "text/x-python",
   "name": "python",
   "nbconvert_exporter": "python",
   "pygments_lexer": "ipython3",
   "version": "3.9.13"
  }
 },
 "nbformat": 4,
 "nbformat_minor": 5
}
