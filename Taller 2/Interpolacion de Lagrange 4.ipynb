{
 "cells": [
  {
   "cell_type": "code",
   "execution_count": 1,
   "id": "e49ce0cc",
   "metadata": {},
   "outputs": [],
   "source": [
    "import numpy as np\n",
    "import matplotlib.pyplot as plt\n",
    "import sympy as sym\n",
    "import os.path as path\n",
    "import pandas as pd\n",
    "import os\n",
    "import wget"
   ]
  },
  {
   "cell_type": "code",
   "execution_count": 2,
   "id": "12018df6",
   "metadata": {},
   "outputs": [],
   "source": [
    "def Lagrange(x,xi,j):\n",
    "    \n",
    "    prod = 1.0\n",
    "    n = len(xi)\n",
    "    \n",
    "    for i in range(n):\n",
    "        if i != j:\n",
    "            prod *= (x - xi[i])/(xi[j]-xi[i])\n",
    "            \n",
    "    return prod\n",
    "\n",
    "def Interpolate(x,xi,yi):\n",
    "    \n",
    "    Sum = 0.\n",
    "    n = len(xi)\n",
    "    \n",
    "    for j in range(n):\n",
    "        Sum += yi[j]*Lagrange(x,xi,j)\n",
    "        \n",
    "    return Sum"
   ]
  },
  {
   "cell_type": "code",
   "execution_count": 3,
   "id": "3ceb9c89",
   "metadata": {},
   "outputs": [],
   "source": [
    "if not path.exists('Data'):\n",
    "    os.mkdir('Data')\n",
    "    \n",
    "file = 'Data/Interpolacion.dat'\n",
    "url = 'https://raw.githubusercontent.com/asegura4488/Database/main/MetodosComputacionalesReforma/Parabolico.csv'\n",
    "\n",
    "if not path.exists(file):\n",
    "    Path_ = wget.download(url,file)\n",
    "    \n",
    "else:\n",
    "    Path_ = file"
   ]
  },
  {
   "cell_type": "code",
   "execution_count": 4,
   "id": "0bffe231",
   "metadata": {},
   "outputs": [
    {
     "data": {
      "text/html": [
       "<div>\n",
       "<style scoped>\n",
       "    .dataframe tbody tr th:only-of-type {\n",
       "        vertical-align: middle;\n",
       "    }\n",
       "\n",
       "    .dataframe tbody tr th {\n",
       "        vertical-align: top;\n",
       "    }\n",
       "\n",
       "    .dataframe thead th {\n",
       "        text-align: right;\n",
       "    }\n",
       "</style>\n",
       "<table border=\"1\" class=\"dataframe\">\n",
       "  <thead>\n",
       "    <tr style=\"text-align: right;\">\n",
       "      <th></th>\n",
       "      <th>X</th>\n",
       "      <th>Y</th>\n",
       "    </tr>\n",
       "  </thead>\n",
       "  <tbody>\n",
       "    <tr>\n",
       "      <th>0</th>\n",
       "      <td>1.4</td>\n",
       "      <td>0.400795</td>\n",
       "    </tr>\n",
       "    <tr>\n",
       "      <th>1</th>\n",
       "      <td>3.5</td>\n",
       "      <td>0.594128</td>\n",
       "    </tr>\n",
       "    <tr>\n",
       "      <th>2</th>\n",
       "      <td>5.6</td>\n",
       "      <td>0.298028</td>\n",
       "    </tr>\n",
       "  </tbody>\n",
       "</table>\n",
       "</div>"
      ],
      "text/plain": [
       "     X         Y\n",
       "0  1.4  0.400795\n",
       "1  3.5  0.594128\n",
       "2  5.6  0.298028"
      ]
     },
     "execution_count": 4,
     "metadata": {},
     "output_type": "execute_result"
    }
   ],
   "source": [
    "Data = pd.read_csv(Path_)\n",
    "Data"
   ]
  },
  {
   "cell_type": "code",
   "execution_count": 5,
   "id": "dbb7627b",
   "metadata": {},
   "outputs": [
    {
     "name": "stdout",
     "output_type": "stream",
     "text": [
      "[1.4 3.5 5.6] [0.40079549 0.5941281  0.29802796]\n"
     ]
    }
   ],
   "source": [
    "X = np.float64(Data.X)\n",
    "Y = np.float64(Data.Y)\n",
    "print(X,Y)"
   ]
  },
  {
   "cell_type": "code",
   "execution_count": 6,
   "id": "4d699edc",
   "metadata": {},
   "outputs": [
    {
     "data": {
      "text/plain": [
       "[<matplotlib.lines.Line2D at 0x2a9da87e100>]"
      ]
     },
     "execution_count": 6,
     "metadata": {},
     "output_type": "execute_result"
    },
    {
     "data": {
      "image/png": "[encoded data removed]",
      "text/plain": [
       "<Figure size 640x480 with 1 Axes>"
      ]
     },
     "metadata": {},
     "output_type": "display_data"
    }
   ],
   "source": [
    "x = np.linspace(X[0],X[-1],100)\n",
    "y = Interpolate(x,X,Y)\n",
    "plt.scatter(X,Y,c=\"r\")\n",
    "plt.plot(x,y)"
   ]
  },
  {
   "cell_type": "code",
   "execution_count": 7,
   "id": "7cb28e5b",
   "metadata": {},
   "outputs": [
    {
     "data": {
      "text/latex": [
       "$\\displaystyle - 0.0554912422401579 x^{2} + 0.363970234266202 x + 2.77555756156289 \\cdot 10^{-17}$"
      ],
      "text/plain": [
       "-0.0554912422401579*x**2 + 0.363970234266202*x + 2.77555756156289e-17"
      ]
     },
     "execution_count": 7,
     "metadata": {},
     "output_type": "execute_result"
    }
   ],
   "source": [
    "polym = Interpolate(sym.Symbol(\"x\",Real=True),X,Y)\n",
    "polym.expand()"
   ]
  },
  {
   "cell_type": "markdown",
   "id": "85de50b8",
   "metadata": {},
   "source": [
    "Ecuación de trayectoria:\n",
    "$$y=tan(\\theta)x+\\frac{gx^2}{2V_0^2cos^2(\\theta)}$$"
   ]
  },
  {
   "cell_type": "code",
   "execution_count": 8,
   "id": "966d89d1",
   "metadata": {},
   "outputs": [
    {
     "data": {
      "text/plain": [
       "0.3490658503988656"
      ]
     },
     "execution_count": 8,
     "metadata": {},
     "output_type": "execute_result"
    }
   ],
   "source": [
    "theta = np.arctan(0.363970234266202)\n",
    "theta #radianes"
   ]
  },
  {
   "cell_type": "code",
   "execution_count": 9,
   "id": "abc5d2e0",
   "metadata": {},
   "outputs": [
    {
     "data": {
      "text/plain": [
       "19.999999999999982"
      ]
     },
     "execution_count": 9,
     "metadata": {},
     "output_type": "execute_result"
    }
   ],
   "source": [
    "0.3490658503988656*(180/np.pi) #grados"
   ]
  },
  {
   "cell_type": "markdown",
   "id": "0d4c4ee3",
   "metadata": {},
   "source": [
    "$$−0.0554912422401579= \\frac{g}{2V_0^2cos^2\\theta}$$\n",
    "$$V_0=\\sqrt{\\frac{g}{2cos^2\\theta \\cdot −0.0554912422401579}}$$"
   ]
  },
  {
   "cell_type": "code",
   "execution_count": 10,
   "id": "6528efa0",
   "metadata": {},
   "outputs": [],
   "source": [
    "g = -9.8"
   ]
  },
  {
   "cell_type": "code",
   "execution_count": 11,
   "id": "5eaf5003",
   "metadata": {},
   "outputs": [
    {
     "data": {
      "text/plain": [
       "10.0"
      ]
     },
     "execution_count": 11,
     "metadata": {},
     "output_type": "execute_result"
    }
   ],
   "source": [
    "v_0 = np.sqrt((g)/(2*-0.0554912422401579*np.cos(theta)**2))\n",
    "v_0"
   ]
  }
 ],
 "metadata": {
  "kernelspec": {
   "display_name": "Python 3 (ipykernel)",
   "language": "python",
   "name": "python3"
  },
  "language_info": {
   "codemirror_mode": {
    "name": "ipython",
    "version": 3
   },
   "file_extension": ".py",
   "mimetype": "text/x-python",
   "name": "python",
   "nbconvert_exporter": "python",
   "pygments_lexer": "ipython3",
   "version": "3.9.13"
  }
 },
 "nbformat": 4,
 "nbformat_minor": 5
}
