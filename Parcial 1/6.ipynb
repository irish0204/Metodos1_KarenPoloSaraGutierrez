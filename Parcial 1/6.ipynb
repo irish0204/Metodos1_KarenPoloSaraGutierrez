{
 "cells": [
  {
   "cell_type": "code",
   "execution_count": 1,
   "id": "df1a4a14",
   "metadata": {},
   "outputs": [],
   "source": [
    "import numpy as np\n",
    "import sympy as sym\n",
    "import matplotlib.pyplot as plt\n",
    "from matplotlib import pyplot"
   ]
  },
  {
   "cell_type": "markdown",
   "id": "ef964978",
   "metadata": {},
   "source": [
    "a) Mostrar que el tiempo de viaje del pulso de luz está dado por:\n",
    "$$ct(x)=n_0 \\sqrt{(x-T[0])^2 + T[1]^2} + n_1 \\sqrt{(x-R[0])^2 + R[1]^2}$$"
   ]
  },
  {
   "cell_type": "markdown",
   "id": "db78ef55",
   "metadata": {},
   "source": [
    "Hay tres puntos importantes para esta situación, la posición del transmisor $T$, la posición del receptor $R$, y el punto en donde incide la luz emitida por el transmisor en la superficie del agua $X$. Cabe destacar, que en el sistema de coordenadas, el cero en el eje y es el nivel del agua.\n",
    "\n",
    "En segundo lugar, hay que tener en cuenta las relaciones que involucran la velocidad de la luz en ambos medios, los índices de refracción, las distancias y el tiempo:\n",
    "\n",
    "$$n=\\frac{c}{v} \\Rightarrow v=\\frac{c}{n}$$\n",
    "\n",
    "$$v=\\frac{d}{t} \\Rightarrow t=\\frac{d}{v}$$\n",
    "\n",
    "Entonces:\n",
    "\n",
    "$$t=\\frac{d}{v}=\\frac{d}{\\frac{c}{n}}=\\frac{dn}{c}$$\n",
    "\n",
    "Con esto en mente, es posible formular una expresión para cada una de las dos distancias que hay (antes de X y después de X)\n",
    "\n",
    "$$d_0=||X-T||=\\sqrt{(X_x-T_x)^2+(X_y-T_y)^2}=\\sqrt{(X_x-T_x)^2+T_y^2}$$\n",
    "$$d_1=||X-R||=\\sqrt{(X_x-R_x)^2+(X_y-R_y)^2}=\\sqrt{(X_x-R_x)^2+R_y^2}$$\n",
    "\n",
    "Seguidamente, reemplazamos las expresiones para las distancias en la ecuación del tiempo:\n",
    "$$t_0=\\frac{d_0n_0}{c}=\\frac{n_0\\sqrt{(X_x-T_x)^2+T_y^2}}{c}$$\n",
    "\n",
    "$$t_1=\\frac{d_1n_1}{c}=\\frac{n_1\\sqrt{(X_x-R_x)^2+R_y^2}}{c}$$\n",
    "\n",
    "De este modo, el tiempo total es igual a la suma de los dos tiempos, lo cual tiene la siguiente forma:\n",
    "$$t=\\frac{n_0\\sqrt{(X_x-T_x)^2+T_y^2}+n_1\\sqrt{(X_x-R_x)^2+R_y^2}}{c}$$\n",
    "\n",
    "\n",
    "Así que, finalmente se tiene que:\n",
    "$$ct(x)=n_0\\sqrt{(X_x-T_x)^2+T_y^2}+n_1\\sqrt{(X_x-R_x)^2+R_y^2}$$\n",
    "\n",
    "Lo cual escrito con la sintaxis de Python, se vería de la siguiente forma:\n",
    "\n",
    "$$ct(x)=n_0 \\sqrt{(x-T[0])^2 + T[1]^2} + n_1 \\sqrt{(x-R[0])^2 + R[1]^2}$$"
   ]
  },
  {
   "cell_type": "code",
   "execution_count": 26,
   "id": "0256ce5d",
   "metadata": {},
   "outputs": [],
   "source": [
    "T = np.array([-3,2])\n",
    "R = np.array([2,-2])\n",
    "A = 0\n",
    "\n",
    "def t(x):\n",
    "    T = np.array([-3,2])\n",
    "    R = np.array([2,-2])\n",
    "    n_0 = 1\n",
    "    n_1 = 1.33\n",
    "    tiempo = n_0*np.sqrt((x-T[0])**2+T[1]**2) + n_1*np.sqrt((x-R[0])**2+R[1]**2)\n",
    "    tiempo = tiempo/300000000 #m/s\n",
    "    \n",
    "    return tiempo"
   ]
  },
  {
   "cell_type": "code",
   "execution_count": 43,
   "id": "7e82f656",
   "metadata": {},
   "outputs": [
    {
     "data": {
      "text/plain": [
       "[<matplotlib.lines.Line2D at 0x1c9bb08e490>]"
      ]
     },
     "execution_count": 43,
     "metadata": {},
     "output_type": "execute_result"
    },
    {
     "data": {
      "image/png": "[encoded data removed]",
      "text/plain": [
       "<Figure size 640x480 with 1 Axes>"
      ]
     },
     "metadata": {},
     "output_type": "display_data"
    }
   ],
   "source": [
    "X = np.linspace(-40,40,100)\n",
    "plt.plot(X,t(X))"
   ]
  },
  {
   "cell_type": "code",
   "execution_count": 28,
   "id": "f85daa7f",
   "metadata": {},
   "outputs": [],
   "source": [
    "def GetNewtonRaphson(f,df,xn,itmax = 100, precision=1e-6):\n",
    "    \n",
    "    error = 1\n",
    "    it = 0\n",
    "    \n",
    "    while error > precision and it <= itmax:\n",
    "        \n",
    "        try:\n",
    "            \n",
    "            xn1 = xn - f(xn)/df(f,xn)\n",
    "            \n",
    "            error = np.abs(f(xn)/df(f,xn))\n",
    "            \n",
    "            \n",
    "        except ZeroDivisionError:\n",
    "            \n",
    "            print('Division por cero')\n",
    "            \n",
    "        it += 1\n",
    "        xn = xn1\n",
    "    \n",
    "    if it == itmax:\n",
    "        False\n",
    "    else:\n",
    "        return xn\n",
    "    \n",
    "def Derivative(f,x,h=1e-5):\n",
    "    return (f(x+h)-f(x-h))/(2*h)\n",
    "\n",
    "def GetAllRoots(Function,x,tolerancia=6):\n",
    "    \n",
    "    Roots = np.array([])\n",
    "    \n",
    "    for i in x:\n",
    "        \n",
    "        root = GetNewtonRaphson(Function,Derivative,i)\n",
    "        \n",
    "        if root != False:\n",
    "            \n",
    "            croot = np.round(root, tolerancia)\n",
    "            \n",
    "            if croot not in Roots:\n",
    "                Roots = np.append(Roots,croot)\n",
    "                \n",
    "    Roots.sort()\n",
    "        \n",
    "    return Roots"
   ]
  },
  {
   "cell_type": "code",
   "execution_count": 29,
   "id": "8d241d23",
   "metadata": {},
   "outputs": [
    {
     "data": {
      "text/plain": [
       "array([-0.246479, 39.930572, 39.930574, 39.930575])"
      ]
     },
     "execution_count": 29,
     "metadata": {},
     "output_type": "execute_result"
    }
   ],
   "source": [
    "extremos = GetAllRoots(t,X)\n",
    "extremos"
   ]
  },
  {
   "cell_type": "code",
   "execution_count": 30,
   "id": "61181886",
   "metadata": {},
   "outputs": [],
   "source": [
    "def D2(f,x,h):\n",
    "    d2= (f(x+h)-(2*f(x))+ f(x-h))/(h**2)\n",
    "    return d2"
   ]
  },
  {
   "cell_type": "code",
   "execution_count": 31,
   "id": "8ab4950d",
   "metadata": {},
   "outputs": [
    {
     "data": {
      "text/plain": [
       "array([9.89969757e-10, 5.29395592e-13, 5.29395592e-13, 0.00000000e+00])"
      ]
     },
     "execution_count": 31,
     "metadata": {},
     "output_type": "execute_result"
    }
   ],
   "source": [
    "D2(t,extremos,1e-5)"
   ]
  },
  {
   "cell_type": "code",
   "execution_count": 37,
   "id": "44449a5d",
   "metadata": {},
   "outputs": [],
   "source": [
    "X=np.array([extremos[1],0])"
   ]
  },
  {
   "cell_type": "code",
   "execution_count": 42,
   "id": "d63dfdaf",
   "metadata": {},
   "outputs": [
    {
     "data": {
      "text/plain": [
       "array([39.930572,  0.      ])"
      ]
     },
     "execution_count": 42,
     "metadata": {},
     "output_type": "execute_result"
    }
   ],
   "source": [
    "X"
   ]
  },
  {
   "cell_type": "code",
   "execution_count": 38,
   "id": "9148b9ca",
   "metadata": {},
   "outputs": [
    {
     "data": {
      "text/plain": [
       "(1.5242431387389144, 1.6234754584733615)"
      ]
     },
     "execution_count": 38,
     "metadata": {},
     "output_type": "execute_result"
    }
   ],
   "source": [
    "a_0 = np.arccos(T[1]/np.sqrt((X[0]-T[0])**2+T[1]**2))\n",
    "a_1 = np.arccos(R[1]/np.sqrt((R[0]-X[0])**2+R[1]**2))\n",
    "a_0,a_1"
   ]
  },
  {
   "cell_type": "code",
   "execution_count": 39,
   "id": "bae91136",
   "metadata": {},
   "outputs": [
    {
     "data": {
      "text/plain": [
       "0.7518796992481203"
      ]
     },
     "execution_count": 39,
     "metadata": {},
     "output_type": "execute_result"
    }
   ],
   "source": [
    "n_0 = 1\n",
    "n_1 = 1.33\n",
    "n_0/n_1"
   ]
  },
  {
   "cell_type": "code",
   "execution_count": 40,
   "id": "3c608492",
   "metadata": {},
   "outputs": [
    {
     "data": {
      "text/plain": [
       "0.9996958498512274"
      ]
     },
     "execution_count": 40,
     "metadata": {},
     "output_type": "execute_result"
    }
   ],
   "source": [
    "np.sin(a_1)/np.sin(a_0)"
   ]
  },
  {
   "cell_type": "code",
   "execution_count": 41,
   "id": "64989ea8",
   "metadata": {},
   "outputs": [],
   "source": [
    "# n0/n1 no es igual a sin(a1)/sin(a0) la ley de Snell no se cumple en este caso."
   ]
  }
 ],
 "metadata": {
  "kernelspec": {
   "display_name": "Python 3 (ipykernel)",
   "language": "python",
   "name": "python3"
  },
  "language_info": {
   "codemirror_mode": {
    "name": "ipython",
    "version": 3
   },
   "file_extension": ".py",
   "mimetype": "text/x-python",
   "name": "python",
   "nbconvert_exporter": "python",
   "pygments_lexer": "ipython3",
   "version": "3.9.13"
  }
 },
 "nbformat": 4,
 "nbformat_minor": 5
}
