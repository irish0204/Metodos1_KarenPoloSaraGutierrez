{
 "cells": [
  {
   "cell_type": "code",
   "execution_count": 1,
   "id": "222bc5a0",
   "metadata": {},
   "outputs": [],
   "source": [
    "from matplotlib import pyplot as plt \n",
    "import numpy as np\n",
    "from mpl_toolkits.mplot3d import axes3d"
   ]
  },
  {
   "cell_type": "markdown",
   "id": "db9ffe1b",
   "metadata": {},
   "source": [
    "## Punto 6"
   ]
  },
  {
   "cell_type": "code",
   "execution_count": 4,
   "id": "72d3b04d",
   "metadata": {},
   "outputs": [],
   "source": [
    "N=10000\n",
    "radio= 1\n",
    "X = np.zeros(N)\n",
    "Y = np.zeros_like(X)\n",
    "Z = np.zeros_like(X)\n",
    "\n",
    "for i in range(N):\n",
    "    u=np.random.rand()\n",
    "    r = radio*np.sqrt(u)\n",
    "      \n",
    "    theta = np.random.uniform(0,2*np.pi)\n",
    "        \n",
    "    h=np.sqrt(radio**2-r**2)\n",
    "    z=np.random.uniform(-h,h)\n",
    "        \n",
    "    X[i]=r*np.cos(theta)\n",
    "    Y[i] = r*np.sin(theta)\n",
    "    Z[i] = z"
   ]
  },
  {
   "cell_type": "code",
   "execution_count": 5,
   "id": "fdf7f33e",
   "metadata": {},
   "outputs": [],
   "source": [
    "def fxx(x,y,z):\n",
    "    return y**2 + z**2\n",
    "\n",
    "def fyy(x,y,z):\n",
    "    return x**2 + z**2\n",
    "\n",
    "def fzz(x,y,z):\n",
    "    return x**2 + y**2"
   ]
  },
  {
   "cell_type": "code",
   "execution_count": 6,
   "id": "93c6024a",
   "metadata": {},
   "outputs": [],
   "source": [
    "muestraxx = np.zeros(N)\n",
    "muestrayy = np.zeros(N)\n",
    "muestrazz = np.zeros(N)\n",
    "\n",
    "for i in range(N):\n",
    "    muestraxx[i] = fxx(X[i],Y[i],Z[i])\n",
    "    muestrayy[i] = fyy(X[i],Y[i],Z[i])\n",
    "    muestrazz[i] = fzz(X[i],Y[i],Z[i])\n",
    "    \n",
    "Ixx = np.average(muestraxx)\n",
    "Iyy = np.average(muestrayy)\n",
    "Izz =np.average(muestrazz)"
   ]
  },
  {
   "cell_type": "code",
   "execution_count": 7,
   "id": "55609231",
   "metadata": {},
   "outputs": [
    {
     "data": {
      "text/plain": [
       "0.4157649097275802"
      ]
     },
     "execution_count": 7,
     "metadata": {},
     "output_type": "execute_result"
    }
   ],
   "source": [
    "Ixx"
   ]
  },
  {
   "cell_type": "code",
   "execution_count": 8,
   "id": "6b4e26e5",
   "metadata": {},
   "outputs": [
    {
     "data": {
      "text/plain": [
       "0.4134482965907307"
      ]
     },
     "execution_count": 8,
     "metadata": {},
     "output_type": "execute_result"
    }
   ],
   "source": [
    "Iyy"
   ]
  },
  {
   "cell_type": "code",
   "execution_count": 9,
   "id": "7d4e60bc",
   "metadata": {},
   "outputs": [
    {
     "data": {
      "text/plain": [
       "0.5036999301982088"
      ]
     },
     "execution_count": 9,
     "metadata": {},
     "output_type": "execute_result"
    }
   ],
   "source": [
    "Izz"
   ]
  },
  {
   "cell_type": "code",
   "execution_count": 10,
   "id": "745a3dd7",
   "metadata": {},
   "outputs": [
    {
     "data": {
      "text/plain": [
       "0.4"
      ]
     },
     "execution_count": 10,
     "metadata": {},
     "output_type": "execute_result"
    }
   ],
   "source": [
    "#Valor exacto\n",
    "2/5"
   ]
  },
  {
   "cell_type": "code",
   "execution_count": 11,
   "id": "38fb76f5",
   "metadata": {},
   "outputs": [
    {
     "data": {
      "text/plain": [
       "0.005724421786291933"
      ]
     },
     "execution_count": 11,
     "metadata": {},
     "output_type": "execute_result"
    }
   ],
   "source": [
    "def fxy(x,y,z):\n",
    "    return x*y\n",
    "\n",
    "muestraxy = np.zeros(N)\n",
    "\n",
    "for i in range(N):\n",
    "    muestraxy[i] = fxy(X[i], Y[i], Z[i])\n",
    "    \n",
    "Ixy = -np.average(muestraxy)\n",
    "Ixy"
   ]
  }
 ],
 "metadata": {
  "kernelspec": {
   "display_name": "Python 3 (ipykernel)",
   "language": "python",
   "name": "python3"
  },
  "language_info": {
   "codemirror_mode": {
    "name": "ipython",
    "version": 3
   },
   "file_extension": ".py",
   "mimetype": "text/x-python",
   "name": "python",
   "nbconvert_exporter": "python",
   "pygments_lexer": "ipython3",
   "version": "3.9.13"
  }
 },
 "nbformat": 4,
 "nbformat_minor": 5
}
